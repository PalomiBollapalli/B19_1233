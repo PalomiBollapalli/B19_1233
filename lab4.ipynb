{
  "nbformat": 4,
  "nbformat_minor": 0,
  "metadata": {
    "colab": {
      "provenance": [],
      "authorship_tag": "ABX9TyNroOiUaKjMpzigkuOXROeC",
      "include_colab_link": true
    },
    "kernelspec": {
      "name": "python3",
      "display_name": "Python 3"
    },
    "language_info": {
      "name": "python"
    }
  },
  "cells": [
    {
      "cell_type": "markdown",
      "metadata": {
        "id": "view-in-github",
        "colab_type": "text"
      },
      "source": [
        "<a href=\"https://colab.research.google.com/github/PalomiBollapalli/B19_1233/blob/main/lab4.ipynb\" target=\"_parent\"><img src=\"https://colab.research.google.com/assets/colab-badge.svg\" alt=\"Open In Colab\"/></a>"
      ]
    },
    {
      "cell_type": "code",
      "execution_count": 1,
      "metadata": {
        "colab": {
          "base_uri": "https://localhost:8080/"
        },
        "id": "NpqljFk57tqY",
        "outputId": "dba4259a-fe3e-4db3-9f7d-646b6c9ccc8b"
      },
      "outputs": [
        {
          "output_type": "stream",
          "name": "stdout",
          "text": [
            "0    10\n",
            "1    20\n",
            "2    30\n",
            "3    40\n",
            "4    50\n",
            "dtype: int64\n"
          ]
        }
      ],
      "source": [
        "import pandas as pd\n",
        "data=[10,20,30,40,50]\n",
        "series=pd.Series(data)\n",
        "print(series)"
      ]
    },
    {
      "cell_type": "code",
      "source": [
        "import pandas as pd\n",
        "data=[10,20,30,40,50]\n",
        "index_labels=['a','b','c','d','e']\n",
        "series=pd.Series(data,index=index_labels)\n",
        "print(series)"
      ],
      "metadata": {
        "colab": {
          "base_uri": "https://localhost:8080/"
        },
        "id": "Gg2ncANE8DgG",
        "outputId": "76147f0b-daf9-4926-8003-95004d563c65"
      },
      "execution_count": 2,
      "outputs": [
        {
          "output_type": "stream",
          "name": "stdout",
          "text": [
            "a    10\n",
            "b    20\n",
            "c    30\n",
            "d    40\n",
            "e    50\n",
            "dtype: int64\n"
          ]
        }
      ]
    },
    {
      "cell_type": "code",
      "source": [
        "data={\n",
        "    'name':['alice','bob','charlie'],\n",
        "    'age':[25,30,35],\n",
        "    'city':['New York','San Francisco','Los Angeles']\n",
        "}\n",
        "df=pd.DataFrame(data)\n",
        "print(df)"
      ],
      "metadata": {
        "colab": {
          "base_uri": "https://localhost:8080/"
        },
        "id": "8UnCYBv09TGW",
        "outputId": "5b32ec17-be52-4373-aa0e-8a8d068a2266"
      },
      "execution_count": 3,
      "outputs": [
        {
          "output_type": "stream",
          "name": "stdout",
          "text": [
            "      name  age           city\n",
            "0    alice   25       New York\n",
            "1      bob   30  San Francisco\n",
            "2  charlie   35    Los Angeles\n"
          ]
        }
      ]
    },
    {
      "cell_type": "code",
      "source": [
        "print(df['name'])"
      ],
      "metadata": {
        "colab": {
          "base_uri": "https://localhost:8080/"
        },
        "id": "uFQ1wufK-yRb",
        "outputId": "7a74b363-09f6-4fec-e17a-7ccf2d1375fe"
      },
      "execution_count": 4,
      "outputs": [
        {
          "output_type": "stream",
          "name": "stdout",
          "text": [
            "0      alice\n",
            "1        bob\n",
            "2    charlie\n",
            "Name: name, dtype: object\n"
          ]
        }
      ]
    },
    {
      "cell_type": "code",
      "source": [
        "print(df[['name','city']])\n",
        "print(df.iloc[1])\n",
        "print(df.iloc[2])"
      ],
      "metadata": {
        "colab": {
          "base_uri": "https://localhost:8080/"
        },
        "id": "FO1qgxg7-4Y0",
        "outputId": "e86b07ef-6087-4ba8-de69-57e168c246ee"
      },
      "execution_count": 6,
      "outputs": [
        {
          "output_type": "stream",
          "name": "stdout",
          "text": [
            "      name           city\n",
            "0    alice       New York\n",
            "1      bob  San Francisco\n",
            "2  charlie    Los Angeles\n",
            "name              bob\n",
            "age                30\n",
            "city    San Francisco\n",
            "Name: 1, dtype: object\n",
            "name        charlie\n",
            "age              35\n",
            "city    Los Angeles\n",
            "Name: 2, dtype: object\n"
          ]
        }
      ]
    },
    {
      "cell_type": "code",
      "source": [
        "df['salary']=[40000,50000,60000]\n",
        "print(df)"
      ],
      "metadata": {
        "colab": {
          "base_uri": "https://localhost:8080/"
        },
        "id": "nkGhrS6-_KSX",
        "outputId": "9b9beb65-a864-4513-f1c8-0473d27cf585"
      },
      "execution_count": 7,
      "outputs": [
        {
          "output_type": "stream",
          "name": "stdout",
          "text": [
            "      name  age           city  salary\n",
            "0    alice   25       New York   40000\n",
            "1      bob   30  San Francisco   50000\n",
            "2  charlie   35    Los Angeles   60000\n"
          ]
        }
      ]
    },
    {
      "cell_type": "code",
      "source": [
        "df=df.drop('city',axis=1)\n",
        "print(df)"
      ],
      "metadata": {
        "colab": {
          "base_uri": "https://localhost:8080/"
        },
        "id": "zbs6L_0k_nUS",
        "outputId": "e1d45904-37c6-4543-ce7f-f3429271296c"
      },
      "execution_count": 8,
      "outputs": [
        {
          "output_type": "stream",
          "name": "stdout",
          "text": [
            "      name  age  salary\n",
            "0    alice   25   40000\n",
            "1      bob   30   50000\n",
            "2  charlie   35   60000\n"
          ]
        }
      ]
    },
    {
      "cell_type": "code",
      "source": [
        "print(df[df['age']>30])"
      ],
      "metadata": {
        "colab": {
          "base_uri": "https://localhost:8080/"
        },
        "id": "qBGHpxDG_vge",
        "outputId": "5ed99726-c9fc-49c1-dc75-6b4da05df837"
      },
      "execution_count": 9,
      "outputs": [
        {
          "output_type": "stream",
          "name": "stdout",
          "text": [
            "      name  age  salary\n",
            "2  charlie   35   60000\n"
          ]
        }
      ]
    },
    {
      "cell_type": "code",
      "source": [
        "print(df['age'].mean())\n",
        "print(df['age'].max())\n",
        "print(df['age'].min())\n"
      ],
      "metadata": {
        "colab": {
          "base_uri": "https://localhost:8080/"
        },
        "id": "kgGA63s1BBhP",
        "outputId": "e92a12ee-7372-4468-c097-7baa410dcb71"
      },
      "execution_count": 10,
      "outputs": [
        {
          "output_type": "stream",
          "name": "stdout",
          "text": [
            "30.0\n",
            "35\n",
            "25\n"
          ]
        }
      ]
    },
    {
      "cell_type": "code",
      "source": [
        "import pandas as pd\n",
        "student_data={\n",
        "    'student_id':[101,102,103],\n",
        "    'name':['Alice','Bob','Charlie'],\n",
        "    'marks':[85,90,78],\n",
        "    'department':['CSE','ECE','MECH']\n",
        "}\n",
        "df=pd.DataFrame(student_data)\n",
        "print(df)"
      ],
      "metadata": {
        "colab": {
          "base_uri": "https://localhost:8080/"
        },
        "id": "oXnQXdjaBS1M",
        "outputId": "4fcfa55a-129d-486c-c4ee-3533a6dbdd38"
      },
      "execution_count": 11,
      "outputs": [
        {
          "output_type": "stream",
          "name": "stdout",
          "text": [
            "   student_id     name  marks department\n",
            "0         101    Alice     85        CSE\n",
            "1         102      Bob     90        ECE\n",
            "2         103  Charlie     78       MECH\n"
          ]
        }
      ]
    },
    {
      "cell_type": "code",
      "source": [
        "print(df[df['marks']>80])\n",
        "print(\"\\navg marks:\",df['marks'].mean())\n",
        "df['result']=['pass' if x > 40 else 'fail ' for x in df['marks']]\n",
        "print(df)"
      ],
      "metadata": {
        "colab": {
          "base_uri": "https://localhost:8080/"
        },
        "id": "mcD141pAD5jA",
        "outputId": "f02b8d6b-8a1d-434b-b2d8-41d70c513c77"
      },
      "execution_count": 14,
      "outputs": [
        {
          "output_type": "stream",
          "name": "stdout",
          "text": [
            "   student_id   name  marks department result\n",
            "0         101  Alice     85        CSE   pass\n",
            "1         102    Bob     90        ECE   pass\n",
            "\n",
            "avg marks: 84.33333333333333\n",
            "   student_id     name  marks department result\n",
            "0         101    Alice     85        CSE   pass\n",
            "1         102      Bob     90        ECE   pass\n",
            "2         103  Charlie     78       MECH   pass\n"
          ]
        }
      ]
    },
    {
      "cell_type": "code",
      "source": [
        "import pandas as pd\n",
        "\n",
        "data = {\n",
        "    \"sname\": [\"nani\", \"ram\", \"suriya\", \"vijay\",\"sam\"],\n",
        "    \"sroll\": [101, 102, 103, 104],\n",
        "    \"m1\": [55, 35, 72, 90],\n",
        "    \"m2\": [65, 45, 60, 85],\n",
        "    \"m3\": [70, 38, 50, 95]\n",
        "}\n",
        "df = pd.DataFrame(data)\n",
        "df[\"total\"] = df[[\"m1\", \"m2\", \"m3\"]].sum(axis=1)\n",
        "df[\"avg\"] = df[\"total\"] / 3\n",
        "#df[\"result\"] = df['result']=['pass' if m1 > 40 else 'fail ' for x in df['marks']]\n",
        "print(df)\n"
      ],
      "metadata": {
        "colab": {
          "base_uri": "https://localhost:8080/"
        },
        "id": "2r26xj3ED-0C",
        "outputId": "0916fab4-2c14-4676-e03c-add2e43d3cc6"
      },
      "execution_count": 16,
      "outputs": [
        {
          "output_type": "stream",
          "name": "stdout",
          "text": [
            "   sname  sroll  m1  m2  m3  total        avg\n",
            "0   nani    101  55  65  70    190  63.333333\n",
            "1    ram    102  35  45  38    118  39.333333\n",
            "2  surja    103  72  60  50    182  60.666667\n",
            "3  vijay    104  90  85  95    270  90.000000\n"
          ]
        }
      ]
    },
    {
      "cell_type": "code",
      "source": [],
      "metadata": {
        "id": "Qc9ubnSXK3dd"
      },
      "execution_count": null,
      "outputs": []
    }
  ]
}