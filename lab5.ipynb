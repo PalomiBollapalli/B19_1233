{
  "nbformat": 4,
  "nbformat_minor": 0,
  "metadata": {
    "colab": {
      "provenance": [],
      "authorship_tag": "ABX9TyNMikuTSPrGj/EPipPr61i1",
      "include_colab_link": true
    },
    "kernelspec": {
      "name": "python3",
      "display_name": "Python 3"
    },
    "language_info": {
      "name": "python"
    }
  },
  "cells": [
    {
      "cell_type": "markdown",
      "metadata": {
        "id": "view-in-github",
        "colab_type": "text"
      },
      "source": [
        "<a href=\"https://colab.research.google.com/github/PalomiBollapalli/B19_1233/blob/main/lab5.ipynb\" target=\"_parent\"><img src=\"https://colab.research.google.com/assets/colab-badge.svg\" alt=\"Open In Colab\"/></a>"
      ]
    },
    {
      "cell_type": "code",
      "execution_count": 5,
      "metadata": {
        "colab": {
          "base_uri": "https://localhost:8080/"
        },
        "id": "C4q3mlkpDOvq",
        "outputId": "40d69d28-2823-4bd2-bc54-aa98cb8c8ee4"
      },
      "outputs": [
        {
          "output_type": "stream",
          "name": "stdout",
          "text": [
            "    Name   age  marks\n",
            "0   Ravi  25.0   85.0\n",
            "1   Neha   NaN   90.0\n",
            "2  kiran  30.0    NaN\n",
            "3   sita  28.0   92.0\n",
            "    Name    age  marks\n",
            "0  False  False  False\n",
            "1  False   True  False\n",
            "2  False  False   True\n",
            "3  False  False  False\n",
            "   Name   age  marks\n",
            "0  Ravi  25.0   85.0\n",
            "3  sita  28.0   92.0\n",
            "    Name   age  marks\n",
            "0   Ravi  25.0   85.0\n",
            "1   Neha   0.0   90.0\n",
            "2  kiran  30.0    0.0\n",
            "3   sita  28.0   92.0\n",
            "    Name        age  marks\n",
            "0   Ravi  25.000000   85.0\n",
            "1   Neha  27.666667   90.0\n",
            "2  kiran  30.000000   89.0\n",
            "3   sita  28.000000   92.0\n"
          ]
        }
      ],
      "source": [
        "import pandas as pd\n",
        "import numpy as np\n",
        "data={\n",
        "    'Name':['Ravi','Neha','kiran','sita'],\n",
        "    'age':[25,np.nan,30,28],\n",
        "    'marks':[85,90,np.nan,92]\n",
        "}\n",
        "df=pd.DataFrame(data)\n",
        "print(df)\n",
        "print(df.isnull())\n",
        "df_drop=df.dropna()\n",
        "print(df_drop)\n",
        "df_fill=df.fillna(0)\n",
        "print(df_fill)\n",
        "df['age']=df['age'].fillna(df['age'].mean())\n",
        "df['marks']=df['marks'].fillna(df['marks'].mean())\n",
        "print(df)\n"
      ]
    },
    {
      "cell_type": "code",
      "source": [
        "data={\n",
        "    'id':[1,2,3],\n",
        "    'team':[np.nan,22,33],\n",
        "    'age':[20,np.nan,23]\n",
        "}\n",
        "df=pd.DataFrame(data)\n",
        "print(df)\n",
        "print(df.isnull())"
      ],
      "metadata": {
        "colab": {
          "base_uri": "https://localhost:8080/"
        },
        "id": "rzjdpxdTGms7",
        "outputId": "0e2afc49-759e-4408-9efd-334df02922da"
      },
      "execution_count": 4,
      "outputs": [
        {
          "output_type": "stream",
          "name": "stdout",
          "text": [
            "   id  team   age\n",
            "0   1   NaN  20.0\n",
            "1   2  22.0   NaN\n",
            "2   3  33.0  23.0\n",
            "      id   team    age\n",
            "0  False   True  False\n",
            "1  False  False   True\n",
            "2  False  False  False\n"
          ]
        }
      ]
    },
    {
      "cell_type": "code",
      "source": [
        "import pandas as pd\n",
        "import numpy as np\n",
        "data={\n",
        "    'Name':['Ravi','Neha','kiran','sita'],\n",
        "    'age':[25,np.nan,30,28],\n",
        "    'marks':[85,90,np.nan,92]\n",
        "}\n",
        "df=pd.DataFrame(data)\n",
        "data = {\n",
        "'ID': ['1', '2', '3', '4'],\n",
        "'Marks': ['85', '90', '78', '92']\n",
        "}\n",
        "df = pd.DataFrame(data)\n",
        "print(\"Original Data Types:\")\n",
        "print(df.dtypes)\n",
        "# Convert to numeric\n",
        "df['ID'] = pd.to_numeric(df['ID'])\n",
        "df['Marks'] = pd.to_numeric(df['Marks'])\n",
        "print(\"\\nAfter Conversion:\")\n",
        "print(df.dtypes)\n",
        "print(df)\n",
        "df_no_dup=df.drop_duplicates()\n",
        "print(df_no_dup)"
      ],
      "metadata": {
        "colab": {
          "base_uri": "https://localhost:8080/"
        },
        "id": "EFErwu2-INRA",
        "outputId": "c80e5fa0-6b1f-4ce1-a997-9f12202b894f"
      },
      "execution_count": 8,
      "outputs": [
        {
          "output_type": "stream",
          "name": "stdout",
          "text": [
            "Original Data Types:\n",
            "ID       object\n",
            "Marks    object\n",
            "dtype: object\n",
            "\n",
            "After Conversion:\n",
            "ID       int64\n",
            "Marks    int64\n",
            "dtype: object\n",
            "   ID  Marks\n",
            "0   1     85\n",
            "1   2     90\n",
            "2   3     78\n",
            "3   4     92\n",
            "   ID  Marks\n",
            "0   1     85\n",
            "1   2     90\n",
            "2   3     78\n",
            "3   4     92\n"
          ]
        }
      ]
    },
    {
      "cell_type": "code",
      "source": [
        "# Apply transformation - add 5 bonus marks\n",
        "df['Marks'] = df['Marks'].apply(lambda x: x + 5)\n",
        "print(\"After Adding Bonus Marks:\")\n",
        "print(df)\n",
        "# Normalization of Marks\n",
        "df['Marks_Normalized'] = (df['Marks'] - df['Marks'].min()) / (df['Marks'].max() - df['Marks'].min())\n",
        "print(\"Normalized Marks:\")\n",
        "print(df)"
      ],
      "metadata": {
        "colab": {
          "base_uri": "https://localhost:8080/"
        },
        "id": "iZvgTSqOKTk9",
        "outputId": "56d2c8d1-0389-4f81-e84d-9607b34379f0"
      },
      "execution_count": 9,
      "outputs": [
        {
          "output_type": "stream",
          "name": "stdout",
          "text": [
            "After Adding Bonus Marks:\n",
            "   ID  Marks\n",
            "0   1     90\n",
            "1   2     95\n",
            "2   3     83\n",
            "3   4     97\n",
            "Normalized Marks:\n",
            "   ID  Marks  Marks_Normalized\n",
            "0   1     90          0.500000\n",
            "1   2     95          0.857143\n",
            "2   3     83          0.000000\n",
            "3   4     97          1.000000\n"
          ]
        }
      ]
    },
    {
      "cell_type": "code",
      "source": [
        "import pandas as pd\n",
        "students = pd.DataFrame({\n",
        "'Student_ID': [101, 102, 103, 104],\n",
        "'Name': ['Ravi', 'Neha', 'Kiran', 'Sita']\n",
        "})\n",
        "marks = pd.DataFrame({\n",
        "'Student_ID': [101, 102, 103, 105],\n",
        "'Marks': [85, 90, 78, 88]\n",
        "})\n",
        "merged_df = pd.merge(students, marks, on='Student_ID')\n",
        "print(\"Merged DataFrame:\")\n",
        "print(merged_df)"
      ],
      "metadata": {
        "colab": {
          "base_uri": "https://localhost:8080/"
        },
        "id": "JtbfYjhfXM7x",
        "outputId": "e07ab28f-4f52-40a2-fed3-a0a1d59b92d4"
      },
      "execution_count": 10,
      "outputs": [
        {
          "output_type": "stream",
          "name": "stdout",
          "text": [
            "Merged DataFrame:\n",
            "   Student_ID   Name  Marks\n",
            "0         101   Ravi     85\n",
            "1         102   Neha     90\n",
            "2         103  Kiran     78\n"
          ]
        }
      ]
    },
    {
      "cell_type": "code",
      "source": [],
      "metadata": {
        "id": "6OXd9Cj4ZvpG"
      },
      "execution_count": null,
      "outputs": []
    }
  ]
}