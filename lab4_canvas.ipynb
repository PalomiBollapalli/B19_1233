{
  "nbformat": 4,
  "nbformat_minor": 0,
  "metadata": {
    "colab": {
      "provenance": [],
      "authorship_tag": "ABX9TyO389lZFiVRmE2YA9agt59X",
      "include_colab_link": true
    },
    "kernelspec": {
      "name": "python3",
      "display_name": "Python 3"
    },
    "language_info": {
      "name": "python"
    }
  },
  "cells": [
    {
      "cell_type": "markdown",
      "metadata": {
        "id": "view-in-github",
        "colab_type": "text"
      },
      "source": [
        "<a href=\"https://colab.research.google.com/github/PalomiBollapalli/B19_1233/blob/main/lab4_canvas.ipynb\" target=\"_parent\"><img src=\"https://colab.research.google.com/assets/colab-badge.svg\" alt=\"Open In Colab\"/></a>"
      ]
    },
    {
      "cell_type": "code",
      "execution_count": 8,
      "metadata": {
        "colab": {
          "base_uri": "https://localhost:8080/",
          "height": 0
        },
        "id": "4L86O_eG0Cwb",
        "outputId": "4f52ac54-512b-4a19-c6dc-92aed77b32dc"
      },
      "outputs": [
        {
          "output_type": "stream",
          "name": "stdout",
          "text": [
            "  User_ID                 Feedback\n",
            "0    U001            Great course!\n",
            "1    U002  Very helpful and clear.\n"
          ]
        }
      ],
      "source": [
        "import pandas as pd\n",
        "# Sample data (dictionary list, simulating a CSV)\n",
        "data = [\n",
        "{'User_ID': 'U001', 'Course_Name': 'Python for Data Science', 'Rating': 5, 'Feedback': 'Great course!', 'Date': '2025-08-01'},\n",
        "{'User_ID': 'U002', 'Course_Name': 'Python for Data Science', 'Rating': 4, 'Feedback': 'Very helpful and clear.', 'Date': '2025-08-02'},\n",
        "{'User_ID': 'U003', 'Course_Name': 'Python for Data Science', 'Rating': 3, 'Feedback': 'Average content.', 'Date': '2025-08-03'},\n",
        "{'User_ID': 'U004', 'Course_Name': 'Machine Learning', 'Rating': 5, 'Feedback': 'Excellent ML course!', 'Date': '2025-08-04'},\n",
        "{'User_ID': 'U005', 'Course_Name': 'Python for Data Science', 'Rating': None, 'Feedback': 'Did not finish.', 'Date': '2025-08-05'}, ]\n",
        "# Create DataFrame\n",
        "df = pd.DataFrame(data)\n",
        "# Ensure Rating is numeric (in case of string inputs)\n",
        "df['Rating'] = pd.to_numeric(df['Rating'], errors='coerce')\n",
        "# Remove rows with missing Rating\n",
        "df = df.dropna(subset=['Rating'])\n",
        "# Filter for \"Python for Data Science\" with Rating >= 4\n",
        "filtered_feedback = df[\n",
        "(df['Course_Name'] == 'Python for Data Science') &\n",
        "(df['Rating'] >= 4)\n",
        "]\n",
        "# Show User_ID and Feedback\n",
        "print(filtered_feedback[['User_ID', 'Feedback']])"
      ]
    },
    {
      "cell_type": "code",
      "source": [
        "import pandas as pd\n",
        "data = [\n",
        "{'Location': 'Delhi', 'PM2.5': 160, 'PM10': 200, 'NO2': 90, 'SO2': 20, 'Date': '2025-08-01'},\n",
        "{'Location': 'Mumbai', 'PM2.5': None, 'PM10': 180, 'NO2': 85, 'SO2': 18, 'Date': '2025-08-02'},\n",
        "{'Location': 'Chennai', 'PM2.5': 140, 'PM10': 170, 'NO2': None, 'SO2': 19, 'Date': '2025-08-03'},\n",
        "{'Location': 'Kolkata', 'PM2.5': None, 'PM10': None, 'NO2': 88, 'SO2': 22, 'Date': '2025-08-04'},\n",
        "{'Location': 'Bangalore', 'PM2.5': 155, 'PM10': 160, 'NO2': 81, 'SO2': 15, 'Date': '2025-08-05'},\n",
        "]\n",
        "# Create a DataFrame\n",
        "df = pd.DataFrame(data)\n",
        "# Forward fill missing pollutant values\n",
        "pollutant_cols = ['PM2.5', 'PM10', 'NO2', 'SO2']\n",
        "df[pollutant_cols] = df[pollutant_cols].fillna(method='ffill')\n",
        "# Filter records where PM2.5 > 150 and NO2 > 80\n",
        "polluted_days = df[(df['PM2.5'] > 150) & (df['NO2'] > 80)]\n",
        "# Display the result\n",
        "print(polluted_days)"
      ],
      "metadata": {
        "colab": {
          "base_uri": "https://localhost:8080/",
          "height": 0
        },
        "id": "nhIVWqJH0DXK",
        "outputId": "d33efb2c-ba56-431d-a598-5e294521ec75"
      },
      "execution_count": 4,
      "outputs": [
        {
          "output_type": "stream",
          "name": "stdout",
          "text": [
            "    Location  PM2.5   PM10   NO2  SO2        Date\n",
            "0      Delhi  160.0  200.0  90.0   20  2025-08-01\n",
            "1     Mumbai  160.0  180.0  85.0   18  2025-08-02\n",
            "4  Bangalore  155.0  160.0  81.0   15  2025-08-05\n"
          ]
        },
        {
          "output_type": "stream",
          "name": "stderr",
          "text": [
            "/tmp/ipython-input-3717296828.py:13: FutureWarning: DataFrame.fillna with 'method' is deprecated and will raise in a future version. Use obj.ffill() or obj.bfill() instead.\n",
            "  df[pollutant_cols] = df[pollutant_cols].fillna(method='ffill')\n"
          ]
        }
      ]
    },
    {
      "cell_type": "code",
      "source": [],
      "metadata": {
        "id": "ZJPckU340Imt"
      },
      "execution_count": null,
      "outputs": []
    }
  ]
}