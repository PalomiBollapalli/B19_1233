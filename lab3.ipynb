{
  "nbformat": 4,
  "nbformat_minor": 0,
  "metadata": {
    "colab": {
      "provenance": [],
      "authorship_tag": "ABX9TyPbt0gea8pD2hC0WsZSORTJ",
      "include_colab_link": true
    },
    "kernelspec": {
      "name": "python3",
      "display_name": "Python 3"
    },
    "language_info": {
      "name": "python"
    }
  },
  "cells": [
    {
      "cell_type": "markdown",
      "metadata": {
        "id": "view-in-github",
        "colab_type": "text"
      },
      "source": [
        "<a href=\"https://colab.research.google.com/github/PalomiBollapalli/B19_1233/blob/main/lab3.ipynb\" target=\"_parent\"><img src=\"https://colab.research.google.com/assets/colab-badge.svg\" alt=\"Open In Colab\"/></a>"
      ]
    },
    {
      "cell_type": "code",
      "execution_count": 11,
      "metadata": {
        "colab": {
          "base_uri": "https://localhost:8080/"
        },
        "id": "31DdMYSe6hlY",
        "outputId": "04ff5248-4efe-418e-f824-cc6a21477cf6"
      },
      "outputs": [
        {
          "output_type": "stream",
          "name": "stdout",
          "text": [
            "data written successfully!\n"
          ]
        }
      ],
      "source": [
        "fp=open(\"example.txt\",\"w\")\n",
        "fp.write(\"Hello,B.Tech students!\\n\")\n",
        "fp.write(\"sR university\\n\")\n",
        "fp.write(\"Palomi\\n\")\n",
        "fp.close()\n",
        "print(\"data written successfully!\")"
      ]
    },
    {
      "cell_type": "code",
      "source": [
        "file=open(\"example.txt\",\"r\")\n",
        "content=file.read()\n",
        "print(\"file content:\\n\",content)\n",
        "file.close()"
      ],
      "metadata": {
        "colab": {
          "base_uri": "https://localhost:8080/"
        },
        "id": "UjArjiHc7fnV",
        "outputId": "efcf4aad-e4d3-4471-f11f-365ab6008b39"
      },
      "execution_count": 12,
      "outputs": [
        {
          "output_type": "stream",
          "name": "stdout",
          "text": [
            "file content:\n",
            " Hello,B.Tech students!\n",
            "sR university\n",
            "Palomi\n",
            "\n"
          ]
        }
      ]
    },
    {
      "cell_type": "code",
      "source": [
        "file=open(\"example.txt\",\"r\")\n",
        "line1=file.readline()\n",
        "line2=file.readline()\n",
        "line3=file.readline()\n",
        "print(\"first line:\",line1)\n",
        "print(\"second line:\",line2)\n",
        "print(\"third line:\",line3)\n",
        "file.close()"
      ],
      "metadata": {
        "colab": {
          "base_uri": "https://localhost:8080/"
        },
        "id": "W3NMxN1S8eUX",
        "outputId": "e4f0b91f-0cab-4933-a760-a09d794baa85"
      },
      "execution_count": 15,
      "outputs": [
        {
          "output_type": "stream",
          "name": "stdout",
          "text": [
            "first line: Hello,B.Tech students!\n",
            "\n",
            "second line: sR university\n",
            "\n",
            "third line: Palomi\n",
            "\n"
          ]
        }
      ]
    },
    {
      "cell_type": "code",
      "source": [
        "file=open(\"example.txt\",\"r\")\n",
        "lines=file.readlines()\n",
        "print(\"all lines:\",lines)\n",
        "file.close()"
      ],
      "metadata": {
        "colab": {
          "base_uri": "https://localhost:8080/"
        },
        "id": "9y6NMAXS-Quy",
        "outputId": "8416fe40-5b0f-4f9a-f73b-ce2ae0fb1a6c"
      },
      "execution_count": 16,
      "outputs": [
        {
          "output_type": "stream",
          "name": "stdout",
          "text": [
            "all lines: ['Hello,B.Tech students!\\n', 'sR university\\n', 'Palomi\\n']\n"
          ]
        }
      ]
    },
    {
      "cell_type": "code",
      "source": [
        "file=open(\"example.txt\",\"a\")\n",
        "file.write(\"appending new data\\n\")\n",
        "file.close()"
      ],
      "metadata": {
        "id": "KgMOrIf1_ACn"
      },
      "execution_count": 17,
      "outputs": []
    },
    {
      "cell_type": "code",
      "source": [
        "with open(\"example.txt\",\"r\") as fp:\n",
        "  data=fp.read()\n",
        "  print(data)"
      ],
      "metadata": {
        "colab": {
          "base_uri": "https://localhost:8080/"
        },
        "id": "6pvUdPI-_bdj",
        "outputId": "347a9a98-9b6b-4a2b-b125-37cc100c100f"
      },
      "execution_count": 18,
      "outputs": [
        {
          "output_type": "stream",
          "name": "stdout",
          "text": [
            "Hello,B.Tech students!\n",
            "sR university\n",
            "Palomi\n",
            "appending new data\n",
            "\n"
          ]
        }
      ]
    },
    {
      "cell_type": "code",
      "source": [
        "import csv\n",
        "with open(\"data.csv\",\"w\",newline='') as fp:\n",
        "  wr=csv.writer(fp)\n",
        "  wr.writerows([[\"name\",\"age\",\"course\"],[\"aaa\",21,\"cse\"],[\"bbb\",20,\"ece\"]])\n",
        "with open(\"data.csv\",\"r\") as file:\n",
        "  re=csv.reader(file)\n",
        "  for row in re:\n",
        "    print(row)"
      ],
      "metadata": {
        "colab": {
          "base_uri": "https://localhost:8080/"
        },
        "id": "oVEF5X_IAn8j",
        "outputId": "66a80bdf-8656-43e9-d03d-1f8ff11cbeff"
      },
      "execution_count": 21,
      "outputs": [
        {
          "output_type": "stream",
          "name": "stdout",
          "text": [
            "['name', 'age', 'course']\n",
            "['aaa', '21', 'cse']\n",
            "['bbb', '20', 'ece']\n"
          ]
        }
      ]
    },
    {
      "cell_type": "code",
      "source": [
        "import numpy as np\n",
        "arr1=np.array([1,2,3,4])\n",
        "print(\"1d array:\",arr1)\n",
        "arr2=np.array([[1,2,3],[4,5,6]])\n",
        "print(\"2d array:\\n\",arr2)\n",
        "zeros_arr=np.zeros((3,3))\n",
        "print(\"zeros array:\\n\",zeros_arr)\n",
        "range_arr=np.arrange(0,10,2)\n",
        "ones_arr=np.ones((2,2))\n",
        "print(\"range array:\",range_arr)\n",
        "rand_arr=np.random.rand(2,3)\n",
        "print(\"random array:\\n\",rand_arr)"
      ],
      "metadata": {
        "colab": {
          "base_uri": "https://localhost:8080/",
          "height": 471
        },
        "id": "Vu-Drmx-CTiw",
        "outputId": "0908478d-2511-46ca-87b7-f751a42585d5"
      },
      "execution_count": 22,
      "outputs": [
        {
          "output_type": "stream",
          "name": "stdout",
          "text": [
            "1d array: [1 2 3 4]\n",
            "2d array:\n",
            " [[1 2 3]\n",
            " [4 5 6]]\n",
            "zeros array:\n",
            " [[0. 0. 0.]\n",
            " [0. 0. 0.]\n",
            " [0. 0. 0.]]\n"
          ]
        },
        {
          "output_type": "error",
          "ename": "AttributeError",
          "evalue": "module 'numpy' has no attribute 'arrange'",
          "traceback": [
            "\u001b[0;31m---------------------------------------------------------------------------\u001b[0m",
            "\u001b[0;31mAttributeError\u001b[0m                            Traceback (most recent call last)",
            "\u001b[0;32m/tmp/ipython-input-2768786388.py\u001b[0m in \u001b[0;36m<cell line: 0>\u001b[0;34m()\u001b[0m\n\u001b[1;32m      6\u001b[0m \u001b[0mzeros_arr\u001b[0m\u001b[0;34m=\u001b[0m\u001b[0mnp\u001b[0m\u001b[0;34m.\u001b[0m\u001b[0mzeros\u001b[0m\u001b[0;34m(\u001b[0m\u001b[0;34m(\u001b[0m\u001b[0;36m3\u001b[0m\u001b[0;34m,\u001b[0m\u001b[0;36m3\u001b[0m\u001b[0;34m)\u001b[0m\u001b[0;34m)\u001b[0m\u001b[0;34m\u001b[0m\u001b[0;34m\u001b[0m\u001b[0m\n\u001b[1;32m      7\u001b[0m \u001b[0mprint\u001b[0m\u001b[0;34m(\u001b[0m\u001b[0;34m\"zeros array:\\n\"\u001b[0m\u001b[0;34m,\u001b[0m\u001b[0mzeros_arr\u001b[0m\u001b[0;34m)\u001b[0m\u001b[0;34m\u001b[0m\u001b[0;34m\u001b[0m\u001b[0m\n\u001b[0;32m----> 8\u001b[0;31m \u001b[0mrange_arr\u001b[0m\u001b[0;34m=\u001b[0m\u001b[0mnp\u001b[0m\u001b[0;34m.\u001b[0m\u001b[0marrange\u001b[0m\u001b[0;34m(\u001b[0m\u001b[0;36m0\u001b[0m\u001b[0;34m,\u001b[0m\u001b[0;36m10\u001b[0m\u001b[0;34m,\u001b[0m\u001b[0;36m2\u001b[0m\u001b[0;34m)\u001b[0m\u001b[0;34m\u001b[0m\u001b[0;34m\u001b[0m\u001b[0m\n\u001b[0m\u001b[1;32m      9\u001b[0m \u001b[0mprint\u001b[0m\u001b[0;34m(\u001b[0m\u001b[0;34m\"range array:\"\u001b[0m\u001b[0;34m,\u001b[0m\u001b[0mrange_arr\u001b[0m\u001b[0;34m)\u001b[0m\u001b[0;34m\u001b[0m\u001b[0;34m\u001b[0m\u001b[0m\n\u001b[1;32m     10\u001b[0m \u001b[0mrand_arr\u001b[0m\u001b[0;34m=\u001b[0m\u001b[0mnp\u001b[0m\u001b[0;34m.\u001b[0m\u001b[0mrandom\u001b[0m\u001b[0;34m.\u001b[0m\u001b[0mrand\u001b[0m\u001b[0;34m(\u001b[0m\u001b[0;36m2\u001b[0m\u001b[0;34m,\u001b[0m\u001b[0;36m3\u001b[0m\u001b[0;34m)\u001b[0m\u001b[0;34m\u001b[0m\u001b[0;34m\u001b[0m\u001b[0m\n",
            "\u001b[0;32m/usr/local/lib/python3.12/dist-packages/numpy/__init__.py\u001b[0m in \u001b[0;36m__getattr__\u001b[0;34m(attr)\u001b[0m\n\u001b[1;32m    408\u001b[0m             \u001b[0;32mreturn\u001b[0m \u001b[0mchar\u001b[0m\u001b[0;34m.\u001b[0m\u001b[0mchararray\u001b[0m\u001b[0;34m\u001b[0m\u001b[0;34m\u001b[0m\u001b[0m\n\u001b[1;32m    409\u001b[0m \u001b[0;34m\u001b[0m\u001b[0m\n\u001b[0;32m--> 410\u001b[0;31m         raise AttributeError(\"module {!r} has no attribute \"\n\u001b[0m\u001b[1;32m    411\u001b[0m                              \"{!r}\".format(__name__, attr))\n\u001b[1;32m    412\u001b[0m \u001b[0;34m\u001b[0m\u001b[0m\n",
            "\u001b[0;31mAttributeError\u001b[0m: module 'numpy' has no attribute 'arrange'"
          ]
        }
      ]
    },
    {
      "cell_type": "code",
      "source": [
        "arr=np.array([[1,2,3],[4,5,6]])\n",
        "print(\"array:\\n\",arr)\n",
        "print(\"shape:\",arr.shape)\n",
        "print(\"item size:\",arr.itemsize)\n",
        "print(\"data type:\",arr.dtype)"
      ],
      "metadata": {
        "colab": {
          "base_uri": "https://localhost:8080/"
        },
        "id": "RSuiYJxaFkXw",
        "outputId": "d6b79625-3e9d-40d3-bbc4-55de59d61676"
      },
      "execution_count": 23,
      "outputs": [
        {
          "output_type": "stream",
          "name": "stdout",
          "text": [
            "array:\n",
            " [[1 2 3]\n",
            " [4 5 6]]\n",
            "shape: (2, 3)\n",
            "item size: 8\n",
            "data type: int64\n"
          ]
        }
      ]
    },
    {
      "cell_type": "code",
      "source": [
        "a=np.array([10,20,30,40,50])\n",
        "print(\"first element:\",a[0])\n",
        "print(\"last element:\",a[-1])\n",
        "print(\"slice[1:4]:\",a[1:4])\n",
        "print(\"every second element:\",a[::2])"
      ],
      "metadata": {
        "colab": {
          "base_uri": "https://localhost:8080/"
        },
        "id": "MZaWTJnUH_7X",
        "outputId": "1b2ccbe8-0d17-407d-b383-695386d1a8af"
      },
      "execution_count": 24,
      "outputs": [
        {
          "output_type": "stream",
          "name": "stdout",
          "text": [
            "first element: 10\n",
            "last element: 50\n",
            "slice[1:4]: [20 30 40]\n",
            "every second element: [10 30 50]\n"
          ]
        }
      ]
    },
    {
      "cell_type": "code",
      "source": [
        "#2D indexing\n",
        "arr2=np.array([[1,2,3],[4,5,6]])\n",
        "print(\"element at r1 col 2:\",arr2[0,1])\n",
        "print(\"second row\",arr2[1,:])\n",
        "print(\"second column:\",arr2[:,1])"
      ],
      "metadata": {
        "colab": {
          "base_uri": "https://localhost:8080/"
        },
        "id": "mHlGk0rEMtE9",
        "outputId": "50a2272b-2296-4284-e802-8b3ae9a75290"
      },
      "execution_count": 25,
      "outputs": [
        {
          "output_type": "stream",
          "name": "stdout",
          "text": [
            "element at r1 col 2: 2\n",
            "second row [4 5 6]\n",
            "second column: [2 5]\n"
          ]
        }
      ]
    },
    {
      "cell_type": "code",
      "source": [
        "arr=np.array([[1,2,3],[4,5,6]])\n",
        "print(\"sum:\",np.sum(arr))\n",
        "print(\"max:\",np.max(arr))\n",
        "print(\"min:\",np.min(arr))\n",
        "print(\"mean:\",np.mean(arr))\n",
        "print(\"median:\",np.median(arr))\n",
        "print(\"standar deviation:\",np.std(arr))\n",
        "print(\"sum along axis 0:\",np.sum(arr,axis=0))\n",
        "print(\"sum along axis 1:\",np.sum(arr,axis=1))"
      ],
      "metadata": {
        "colab": {
          "base_uri": "https://localhost:8080/"
        },
        "id": "rwMmaZKRNWP8",
        "outputId": "63d0b6ff-c487-4541-8e3c-60d70c2b1d6f"
      },
      "execution_count": 28,
      "outputs": [
        {
          "output_type": "stream",
          "name": "stdout",
          "text": [
            "sum: 21\n",
            "max: 6\n",
            "min: 1\n",
            "mean: 3.5\n",
            "median: 3.5\n",
            "standar deviation: 1.707825127659933\n",
            "sum along axis 0: [5 7 9]\n",
            "sum along axis 1: [ 6 15]\n"
          ]
        }
      ]
    },
    {
      "cell_type": "code",
      "source": [
        "import numpy as np\n",
        "marks = np.array([\n",
        "    [85, 90, 88],\n",
        "    [78, 81, 85],\n",
        "    [92, 89, 95]\n",
        "])\n",
        "print(\"Average marks per student:\", np.mean(marks, axis=1))\n",
        "print(\"Average marks per subject:\", np.mean(marks, axis=0))\n",
        "print(\"Highest marks in each subject:\", np.max(marks, axis=0))\n",
        "print(\"Lowest marks in each subject:\", np.min(marks, axis=0))\n",
        "import numpy as np\n",
        "marks = np.array([\n",
        "    [85, 90, 88],\n",
        "    [78, 81, 85],\n",
        "    [92, 89, 95]\n",
        "])\n",
        "print(\"Average marks per student:\", np.mean(marks, axis=1))\n",
        "print(\"Average marks per subject:\", np.mean(marks, axis=0))\n",
        "print(\"Highest marks in each subject:\", np.max(marks, axis=0))\n",
        "print(\"Lowest marks in each subject:\", np.min(marks, axis=0))"
      ],
      "metadata": {
        "colab": {
          "base_uri": "https://localhost:8080/"
        },
        "id": "gQR8kzcjRbRw",
        "outputId": "39065415-b777-4ef5-b1c5-d4d5eebc085c"
      },
      "execution_count": 29,
      "outputs": [
        {
          "output_type": "stream",
          "name": "stdout",
          "text": [
            "Average marks per student: [87.66666667 81.33333333 92.        ]\n",
            "Average marks per subject: [85.         86.66666667 89.33333333]\n",
            "Highest marks in each subject: [92 90 95]\n",
            "Lowest marks in each subject: [78 81 85]\n",
            "Average marks per student: [87.66666667 81.33333333 92.        ]\n",
            "Average marks per subject: [85.         86.66666667 89.33333333]\n",
            "Highest marks in each subject: [92 90 95]\n",
            "Lowest marks in each subject: [78 81 85]\n"
          ]
        }
      ]
    },
    {
      "cell_type": "code",
      "source": [],
      "metadata": {
        "id": "J8qZsXbwZiAM"
      },
      "execution_count": null,
      "outputs": []
    }
  ]
}